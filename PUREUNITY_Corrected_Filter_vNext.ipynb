{
  "cells": [
    {
      "cell_type": "markdown",
      "metadata": {},
      "source": [
        "# 🏇 PUREUNITY Corrected Filter — vNext (LTO Locked)\n",
        "\n",
        "Full‑Parse + REL‑Spread + Guardrail Logic. Runs in **Google Colab** (desktop or mobile) and **VS Code/Jupyter**.\n",
        "\n",
        "**Quick flow:** Install ▶️ Choose input (Upload or Drive) ▶️ Parse ▶️ Rank ▶️ Table ▶️ (optional) Export CSV.\n"
      ]
    },
    {
      "cell_type": "code",
      "metadata": {
        "id": "setup"
      },
      "execution_count": null,
      "outputs": [],
      "source": [
        "# ✅ One-time installs per new runtime\n",
        "!pip install -q pdfplumber pandas\n",
        "\n",
        "import re\n",
        "import pdfplumber\n",
        "import pandas as pd\n"
      ]
    },
    {
      "cell_type": "code",
      "metadata": {
        "id": "config"
      },
      "execution_count": null,
      "outputs": [],
      "source": [
        "# 🔧 Choose how you want to provide the PDF\n",
        "SELECT_INPUT = 'upload'   # 'upload' or 'drive'\n",
        "# If using Google Drive, put your PDF in My Drive and set the path below (example):\n",
        "DRIVE_PDF_PATH = '/content/drive/My Drive/ATR_formcard.pdf'\n"
      ]
    },
    {
      "cell_type": "code",
      "metadata": {
        "id": "input_picker"
      },
      "execution_count": null,
      "outputs": [],
      "source": [
        "pdf_path = None\n",
        "if SELECT_INPUT.lower() == 'drive':\n",
        "    from google.colab import drive\n",
        "    drive.mount('/content/drive', force_remount=True)\n",
        "    pdf_path = DRIVE_PDF_PATH\n",
        "    print('Using Google Drive file:', pdf_path)\n",
        "else:\n",
        "    from google.colab import files\n",
        "    print('📄 Upload your ATR “Form Printouts” PDF…')\n",
        "    uploaded = files.upload()\n",
        "    pdf_path = list(uploaded.keys())[0]\n",
        "    print('Using uploaded file:', pdf_path)\n"
      ]
    },
    {
      "cell_type": "code",
      "metadata": {
        "id": "core"
      },
      "execution_count": null,
      "outputs": [],
      "source": [
        "\n",
        "# ------------------------------------------------------------\n",
        "# 1️⃣  PARSER  — Raw-Line Scan (no dropped runners)\n",
        "# ------------------------------------------------------------\n",
        "def parse_races_from_pdf(path: str):\n",
        "    \"\"\"\n",
        "    Reads an ATR 'Form Printouts' PDF and extracts every race\n",
        "    block + runner + form string. Guarantees no missing runners.\n",
        "    \"\"\"\n",
        "    races, current_race = [], None\n",
        "\n",
        "    with pdfplumber.open(path) as pdf:\n",
        "        for page in pdf.pages:\n",
        "            text = page.extract_text() or \"\"\n",
        "            lines = text.splitlines()\n",
        "            for i, line in enumerate(lines):\n",
        "                # --- Detect race header\n",
        "                if re.search(r\"\\(R\\d+\\)\", line):\n",
        "                    if current_race:\n",
        "                        if current_race[\"runners\"] == 0:\n",
        "                            current_race[\"runners\"] = len(current_race[\"horses\"])\n",
        "                        races.append(current_race)\n",
        "\n",
        "                    # Build race shell\n",
        "                    time_match = re.search(r\"\\d{1,2}:\\d{2}\", line)\n",
        "                    race_time = time_match.group() if time_match else \"??:??\"\n",
        "                    current_race = {\"time\": race_time, \"runners\": 0, \"horses\": []}\n",
        "\n",
        "                    # Peek ahead for \"XX RUNNERS\"\n",
        "                    for la in lines[i:i+3]:\n",
        "                        m = re.search(r\"(\\d+)\\s+RUNNERS\", la.upper())\n",
        "                        if m:\n",
        "                            current_race[\"runners\"] = int(m.group(1))\n",
        "\n",
        "                # --- Capture runner line\n",
        "                elif current_race and \"ATR VERDICT\" not in (line or \"\"):\n",
        "                    parts = (line or \"\").strip().split()\n",
        "                    if len(parts) > 1:\n",
        "                        form = parts[-1]\n",
        "                        name = \" \".join(parts[:-1])\n",
        "                        if re.match(r\"^[\\dA-Z\\-PBFUR]+$\", form):\n",
        "                            current_race[\"horses\"].append({\"name\": name, \"form\": form})\n",
        "\n",
        "        # push final race\n",
        "        if current_race:\n",
        "            if current_race[\"runners\"] == 0:\n",
        "                current_race[\"runners\"] = len(current_race[\"horses\"])\n",
        "            races.append(current_race)\n",
        "    return races\n",
        "\n",
        "\n",
        "# ------------------------------------------------------------\n",
        "# 2️⃣  REL-SCORING\n",
        "# ------------------------------------------------------------\n",
        "def score_rel(form: str) -> int:\n",
        "    \"\"\"\n",
        "    REL4 = ≥2 wins OR ≥3 placings last 5\n",
        "    REL3 = ≥1 win OR ≥2 placings last 4\n",
        "    REL2 = ≥1 placing last 4\n",
        "    REL1 = else\n",
        "    \"\"\"\n",
        "    digits = [int(ch) for ch in re.sub(r\"[^0-9]\", \"\", form)[-5:]]\n",
        "    if digits.count(1) >= 2 or sum(d <= 3 for d in digits) >= 3:\n",
        "        return 4\n",
        "    elif digits.count(1) >= 1 or sum(d <= 3 for d in digits[-4:]) >= 2:\n",
        "        return 3\n",
        "    elif sum(d <= 4 for d in digits[-4:]) >= 1:\n",
        "        return 2\n",
        "    return 1\n",
        "\n",
        "\n",
        "# ------------------------------------------------------------\n",
        "# 3️⃣  MAIN FILTER LOGIC\n",
        "# ------------------------------------------------------------\n",
        "def unity_corrected_filter(races):\n",
        "    \"\"\"\n",
        "    Applies REL scoring, LTO tie-break, and guardrails.\n",
        "    Returns list of race dictionaries for display or export.\n",
        "    \"\"\"\n",
        "    out = []\n",
        "\n",
        "    for race in races:\n",
        "        horses = race[\"horses\"]\n",
        "\n",
        "        # --- Score REL, placings, and LTO\n",
        "        for h in horses:\n",
        "            h[\"rel\"] = score_rel(h[\"form\"])\n",
        "            h[\"places\"] = sum(ch in \"23\" for ch in h[\"form\"][-5:])\n",
        "            digits = [int(ch) for ch in re.sub(r\"[^0-9]\", \"\", h[\"form\"])]\n",
        "            h[\"lto\"] = digits[-1] if digits else 99  # smaller = better finish\n",
        "\n",
        "        # --- Sort by REL > placings > LTO > alpha\n",
        "        def rank_key(h): return (-h[\"rel\"], -h[\"places\"], h[\"lto\"], h[\"name\"])\n",
        "        ranked = sorted(horses, key=rank_key)\n",
        "\n",
        "        gold = ranked[0][\"name\"] if ranked else None\n",
        "        silver = ranked[1][\"name\"] if len(ranked) > 1 else None\n",
        "\n",
        "        guardrail = (\n",
        "            \"No Bet (<7)\" if race[\"runners\"] < 7\n",
        "            else (\"N (default) / Y (expand)\" if race[\"runners\"] > 13 else \"—\")\n",
        "        )\n",
        "\n",
        "        out.append({\n",
        "            \"Time\": race[\"time\"],\n",
        "            \"Runners\": race[\"runners\"],\n",
        "            \"🥇 Gold\": gold,\n",
        "            \"🥈 Silver\": silver,\n",
        "            \"Guardrail\": guardrail\n",
        "        })\n",
        "    return out\n"
      ]
    },
    {
      "cell_type": "code",
      "metadata": {
        "id": "run"
      },
      "execution_count": null,
      "outputs": [],
      "source": [
        "# ▶️ Run the filter\n",
        "races = parse_races_from_pdf(pdf_path)\n",
        "selections = unity_corrected_filter(races)\n",
        "\n",
        "df = pd.DataFrame(selections)\n",
        "from IPython.display import display\n",
        "display(df)\n",
        "print('\\nMarkdown copy:')\n",
        "print(df.to_markdown(index=False))\n"
      ]
    },
    {
      "cell_type": "code",
      "metadata": {
        "id": "export"
      },
      "execution_count": null,
      "outputs": [],
      "source": [
        "# 💾 Optional: save to CSV (downloads in Colab left pane > Files)\n",
        "csv_path = 'pureunity_vnext_selections.csv'\n",
        "df.to_csv(csv_path, index=False)\n",
        "print('Saved:', csv_path)\n"
      ]
    }
  ],
  "metadata": {
    "kernelspec": {
      "display_name": "Python 3",
      "language": "python",
      "name": "python3"
    },
    "language_info": {
      "name": "python",
      "version": "3.x"
    }
  },
  "nbformat": 4,
  "nbformat_minor": 5
}